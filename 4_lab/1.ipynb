{
 "cells": [
  {
   "cell_type": "markdown",
   "metadata": {},
   "source": [
    "## Структуровані масиви даних"
   ]
  },
  {
   "cell_type": "code",
   "execution_count": 5,
   "metadata": {},
   "outputs": [],
   "source": [
    "def homework(message):\n",
    "    print(\"\\n>>>>>\", message, \"\\n\")\n",
    "import numpy as np"
   ]
  },
  {
   "cell_type": "markdown",
   "metadata": {},
   "source": [
    "### Визначення однорідного масиву"
   ]
  },
  {
   "cell_type": "code",
   "execution_count": 6,
   "metadata": {},
   "outputs": [
    {
     "name": "stdout",
     "output_type": "stream",
     "text": [
      "Отриманий масив має вигляд:\n",
      "array([[ 3,  8,  9],\n",
      "       [ 1, -7,  0],\n",
      "       [ 4, 12,  4]], dtype=int8)\n",
      "Отриманий масив має вигляд:\n",
      "array([[ 3.4,  8.7,  9.9],\n",
      "       [ 1.1, -7.8, -0.7],\n",
      "       [ 4.1, 12.3,  4.8]], dtype=float16)\n",
      "\n",
      ">>>>> Згадуючи ООП, що робить функція repr? \n",
      "\n",
      "\tФунцкція repr повертає рядок, що є офіційним представленням об'єкта для розробників.\n",
      "\n",
      ">>>>> У чому різниця між масивами A i B? \n",
      "\n",
      "\tМасив А є масивом цілих чисел, у якому відкинуто дробову частину.\n",
      "\tМасив В є масивом із плаваючою крапкою, зберігає дробову частину.\n"
     ]
    }
   ],
   "source": [
    "lst = [ [3.4, 8.7, 9.9], \n",
    "        [1.1, -7.8, -0.7],\n",
    "        [4.1, 12.3, 4.8] ]\n",
    "\n",
    "A = np.array(lst, dtype=np.int8)\n",
    "print(f\"Отриманий масив має вигляд:\\n{repr(A)}\")\n",
    "B = np.array(lst, dtype=np.float16)\n",
    "print(f\"Отриманий масив має вигляд:\\n{repr(B)}\")\n",
    "\n",
    "homework(\"Згадуючи ООП, що робить функція repr?\")\n",
    "print(\"\\tФунцкція repr повертає рядок, що є офіційним представленням об'єкта для розробників.\")\n",
    "homework(\"У чому різниця між масивами A i B?\")\n",
    "print(\"\"\"\\tМасив А є масивом цілих чисел, у якому відкинуто дробову частину.\n",
    "\\tМасив В є масивом із плаваючою крапкою, зберігає дробову частину.\"\"\")"
   ]
  },
  {
   "cell_type": "markdown",
   "metadata": {},
   "source": [
    "### Задаємо свій тип даних"
   ]
  },
  {
   "cell_type": "code",
   "execution_count": 7,
   "metadata": {},
   "outputs": [
    {
     "name": "stdout",
     "output_type": "stream",
     "text": [
      "Отриманий масив має вигляд:\n",
      "[('Bohdan', 4, 'TK-42') ('Marta', 5, 'KN-31') ('Noname', 0, 'No')\n",
      " ('Mykola', 5, 'KN-41')]\n",
      "Доступитись до певної колонки тепер можна за її іменем: [4 5 0 5]\n",
      "\n",
      ">>>>> Як вивести всі імена присутні в даному масиві? \n",
      "\n",
      "Для отримання всіх імен можна звернутися до поля (name)\n",
      "['Bohdan' 'Marta' 'Noname' 'Mykola']\n"
     ]
    }
   ],
   "source": [
    "# Створення додаткового поля group для наступного завдання\n",
    "dt = np.dtype([('name', 'U20'), ('mark', np.int8), ('group', 'U10')])\n",
    "# Дописаний масив\n",
    "arr = [\n",
    "    (\"Bohdan\", 4,\"TK-42\"), \n",
    "    (\"Marta\", 5,\"KN-31\"),\n",
    "    (\"Noname\", 0,\"No\"),\n",
    "    (\"Mykola\",5,\"KN-41\")\n",
    "    ]\n",
    "C = np.array(arr, dtype=dt)\n",
    "print(f\"Отриманий масив має вигляд:\\n{C}\")\n",
    "print(f\"Доступитись до певної колонки тепер можна за її іменем: {C['mark']}\")\n",
    "\n",
    "homework(\"Як вивести всі імена присутні в даному масиві?\")\n",
    "print(\"Для отримання всіх імен можна звернутися до поля (name)\")\n",
    "print(C['name'])\n"
   ]
  },
  {
   "cell_type": "markdown",
   "metadata": {},
   "source": [
    "### Запис та зчитування з файлу, формат CSV"
   ]
  },
  {
   "cell_type": "code",
   "execution_count": 8,
   "metadata": {},
   "outputs": [
    {
     "name": "stdout",
     "output_type": "stream",
     "text": [
      "Вихідний масив:  [('Bohdan', 4, 'TK-42') ('Marta', 5, 'KN-31') ('Noname', 0, 'No')\n",
      " ('Mykola', 5, 'KN-41')]\n",
      "Прочитаний з файлу:  [('Bohdan', 4, 'TK-42') ('Marta', 5, 'KN-31') ('Noname', 0, 'No')\n",
      " ('Mykola', 5, 'KN-41')]\n",
      "Записуємо у CSV файл temp.csv значення: [('Bohdan', 4, 'TK-42') ('Marta', 5, 'KN-31') ('Noname', 0, 'No')\n",
      " ('Mykola', 5, 'KN-41')]\n",
      "Перевіряємо чи файл temp.csv створився: ['1.ipynb', 'my_mass.npz', 'README.md', 'temp.csv']\n",
      "Читаємо файл за допомогою оператора with та методу readlines\n",
      "Прочитаний файл:\n",
      " ['# name,mark\\n', 'Bohdan,4,TK-42\\n', 'Marta,5,KN-31\\n', 'Noname,0,No\\n', 'Mykola,5,KN-41\\n'] \n",
      "- як бачимо - 5 елементи є стрічками <class 'str'>.\n",
      "Зчитане значення з файла:\n",
      " [('Bohdan', 4, 'TK-42') ('Marta', 5, 'KN-31') ('Noname', 0, 'No')\n",
      " ('Mykola', 5, 'KN-41')], як бачимо - 4 елементи це <class 'numpy.void'> \n",
      "- вбудований клас бібліотеки numpy.\n",
      "Доступитись до певного елемента можна наступним чином, наприклад імя першого елементу: Bohdan\n",
      "\n",
      ">>>>> Створіть додаткове поле group - яке буде вказувавти групу. \n",
      "Допишіть Ваше імя, оцінку та групу до масиву. \n",
      "Збережіть та вичитайте дані у файл.\n",
      "Прочитайте саме Ваше імя з масиву. \n",
      "\n",
      "Моє ім'я з масиву: Mykola\n"
     ]
    }
   ],
   "source": [
    "print(\"Вихідний масив: \", C)\n",
    "np.savez(\"my_mass.npz\", my_mass=C)\n",
    "D = np.load(\"my_mass.npz\")\n",
    "print(\"Прочитаний з файлу: \", D[\"my_mass\"])\n",
    "\n",
    "filename = \"temp.csv\"\n",
    "print(f\"Записуємо у CSV файл {filename} значення: {C}\")\n",
    "np.savetxt(filename, C, fmt=\"%s,%d,%s\", header=\"name,mark\", delimiter=\",\")\n",
    "\n",
    "import os\n",
    "print(f\"Перевіряємо чи файл {filename} створився: {os.listdir()}\")\n",
    "\n",
    "print(\"Читаємо файл за допомогою оператора with та методу readlines\")\n",
    "with open(filename) as f:\n",
    "    D = f.readlines()\n",
    "\n",
    "print(f\"Прочитаний файл:\\n {D} \\n- як бачимо - {len(D)} елементи є стрічками {type(D[0])}.\")\n",
    "\n",
    "D = np.genfromtxt(filename, dtype=dt, delimiter=\",\")\n",
    "print(f\"Зчитане значення з файла:\\n {D}, як бачимо - {D.size} елементи це {type(D[0])} \\n- вбудований клас бібліотеки numpy.\")\n",
    "print(f\"Доступитись до певного елемента можна наступним чином, наприклад імя першого елементу: {D[0]['name']}\")\n",
    "\n",
    "homework(\"\"\"Створіть додаткове поле group - яке буде вказувавти групу. \n",
    "Допишіть Ваше імя, оцінку та групу до масиву. \n",
    "Збережіть та вичитайте дані у файл.\n",
    "Прочитайте саме Ваше імя з масиву.\"\"\")\n",
    "print(f\"Моє ім'я з масиву: {D[-1]['name']}\")\n"
   ]
  }
 ],
 "metadata": {
  "kernelspec": {
   "display_name": "Python 3",
   "language": "python",
   "name": "python3"
  },
  "language_info": {
   "codemirror_mode": {
    "name": "ipython",
    "version": 3
   },
   "file_extension": ".py",
   "mimetype": "text/x-python",
   "name": "python",
   "nbconvert_exporter": "python",
   "pygments_lexer": "ipython3",
   "version": "3.12.6"
  }
 },
 "nbformat": 4,
 "nbformat_minor": 2
}
