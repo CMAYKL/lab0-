{
 "cells": [
  {
   "cell_type": "markdown",
   "metadata": {},
   "source": [
    "## Завдання на залік\n",
    "- Написати програму на Python де генерується масив з 10 елементів викорис біліотеку numpy та виводиться елементи з 3 по 7"
   ]
  },
  {
   "cell_type": "code",
   "execution_count": 8,
   "metadata": {},
   "outputs": [
    {
     "name": "stdout",
     "output_type": "stream",
     "text": [
      "Згенерований масив: [21 83  1 70 67 60 76  7 19 45]\n",
      "Елементи з 3 по 7: [ 1 70 67 60 76]\n"
     ]
    }
   ],
   "source": [
    "import numpy as np\n",
    "\n",
    "arr = np.random.randint(1, 101, size=10)\n",
    "print(\"Згенерований масив:\", arr)\n",
    "print(\"Елементи з 3 по 7:\", arr[2:7])"
   ]
  }
 ],
 "metadata": {
  "kernelspec": {
   "display_name": "Python 3",
   "language": "python",
   "name": "python3"
  },
  "language_info": {
   "codemirror_mode": {
    "name": "ipython",
    "version": 3
   },
   "file_extension": ".py",
   "mimetype": "text/x-python",
   "name": "python",
   "nbconvert_exporter": "python",
   "pygments_lexer": "ipython3",
   "version": "3.12.6"
  }
 },
 "nbformat": 4,
 "nbformat_minor": 2
}
