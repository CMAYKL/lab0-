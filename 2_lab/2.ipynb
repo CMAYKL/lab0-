{
 "cells": [
  {
   "cell_type": "code",
   "execution_count": 12,
   "metadata": {},
   "outputs": [
    {
     "name": "stdout",
     "output_type": "stream",
     "text": [
      "['a', 1, 1.25, 'Слово', 'змінна з текстом']\n",
      "{'a': 'Слово', 'b': 1, 'змінна з текстом': 1}\n",
      "('a', 'змінна з текстом')\n",
      "{'змінна з текстомtext', 'ss'}\n"
     ]
    }
   ],
   "source": [
    "a = \"змінна з текстом\"\n",
    "t = \"text\"\n",
    "b = 1 # числова Змінна\n",
    "b1 = 1.1 \n",
    "c = [\"a\", 1, 1.25, \"Слово\", a] # List\n",
    "d = {\"a\": \"Слово\", \"b\": 1, a: b} # Dict\n",
    "e = (\"a\", a) # Tuple\n",
    "f = {\"ss\", a + t} # Set\n",
    "print(c)\n",
    "print(d)\n",
    "print(e)\n",
    "print(f)"
   ]
  },
  {
   "cell_type": "code",
   "execution_count": 14,
   "metadata": {},
   "outputs": [
    {
     "name": "stdout",
     "output_type": "stream",
     "text": [
      "Перша константа:  None\n",
      "І можна так робити вивід? False\n",
      "Третя константа: True\n"
     ]
    }
   ],
   "source": [
    "print(\"Перша константа: \", None)\n",
    "print(f\"І можна так робити вивід? {False}\")\n",
    "print(f\"Третя константа: {True}\")\n"
   ]
  },
  {
   "cell_type": "code",
   "execution_count": 15,
   "metadata": {},
   "outputs": [
    {
     "name": "stdout",
     "output_type": "stream",
     "text": [
      "Результат роботи len(): 6\n",
      "Результат роботи sum(): 60\n",
      "Результат роботи type(): <class 'str'>\n"
     ]
    }
   ],
   "source": [
    "my_list = [10, 20, 30]\n",
    "my_string = \"Python\"\n",
    "\n",
    "print(\"Результат роботи len():\", len(my_string))\n",
    "print(\"Результат роботи sum():\", sum(my_list))\n",
    "print(\"Результат роботи type():\", type(my_string))\n"
   ]
  },
  {
   "cell_type": "code",
   "execution_count": 16,
   "metadata": {},
   "outputs": [
    {
     "name": "stdout",
     "output_type": "stream",
     "text": [
      "I like apple\n",
      "I like banana\n",
      "I like cherry\n",
      "Number: 1\n",
      "Number: 2\n",
      "Number: 3\n",
      "Number: 4\n",
      "Number: 5\n"
     ]
    }
   ],
   "source": [
    "fruits = ['apple', 'banana', 'cherry']\n",
    "for fruit in fruits:\n",
    "    print(f\"I like {fruit}\")\n",
    "\n",
    "count = 1\n",
    "while count <= 5:\n",
    "    print(f\"Number: {count}\")\n",
    "    count += 1\n"
   ]
  },
  {
   "cell_type": "code",
   "execution_count": 19,
   "metadata": {},
   "outputs": [
    {
     "name": "stdout",
     "output_type": "stream",
     "text": [
      "10 більше 5\n",
      "Сьогодні робочий день\n",
      "Повнолітній\n"
     ]
    }
   ],
   "source": [
    "x = 10\n",
    "if x > 5:\n",
    "    print(f\"{x} більше 5\")\n",
    "else:\n",
    "    print(f\"{x} менше 5\")\n",
    "\n",
    "day = \"Monday\"\n",
    "if day == \"Saturday\":\n",
    "    print(\"Сьогодні вихідний\")\n",
    "elif day == \"Sunday\":\n",
    "    print(\"Сьогодні також вихідний\")\n",
    "else:\n",
    "    print(\"Сьогодні робочий день\")\n",
    "\n",
    "age = 18\n",
    "message = \"Повнолітній\" if age >= 18 else \"Неповнолітній\"\n",
    "print(message)\n"
   ]
  },
  {
   "cell_type": "code",
   "execution_count": 22,
   "metadata": {},
   "outputs": [
    {
     "name": "stdout",
     "output_type": "stream",
     "text": [
      "Помилка: не можна ділити на нуль.\n",
      "Операція завершена.\n"
     ]
    }
   ],
   "source": [
    "try:\n",
    "    result = 10 / 0\n",
    "except ZeroDivisionError:\n",
    "    print(\"Помилка: не можна ділити на нуль.\")\n",
    "finally:\n",
    "    print(\"Операція завершена.\")\n",
    "\n"
   ]
  },
  {
   "cell_type": "code",
   "execution_count": 29,
   "metadata": {},
   "outputs": [
    {
     "name": "stdout",
     "output_type": "stream",
     "text": [
      "Цей текст записаний за допомогою контекст-менеджера.\n",
      "\n"
     ]
    }
   ],
   "source": [
    "with open(\"example.txt\", \"r\") as file:\n",
    "    content = file.read()\n",
    "    print(content)\n"
   ]
  },
  {
   "cell_type": "code",
   "execution_count": 34,
   "metadata": {},
   "outputs": [
    {
     "name": "stdout",
     "output_type": "stream",
     "text": [
      "Це просто функція: <function <lambda> at 0x000001C3BCF2D800>\n",
      "Це її виклик: 15\n"
     ]
    }
   ],
   "source": [
    "add_numbers = lambda x, y: x + y\n",
    "print(\"Це просто функція:\", add_numbers)\n",
    "print(\"Це її виклик:\", add_numbers(5, 10))"
   ]
  }
 ],
 "metadata": {
  "kernelspec": {
   "display_name": "Python 3",
   "language": "python",
   "name": "python3"
  },
  "language_info": {
   "codemirror_mode": {
    "name": "ipython",
    "version": 3
   },
   "file_extension": ".py",
   "mimetype": "text/x-python",
   "name": "python",
   "nbconvert_exporter": "python",
   "pygments_lexer": "ipython3",
   "version": "3.12.6"
  }
 },
 "nbformat": 4,
 "nbformat_minor": 2
}
