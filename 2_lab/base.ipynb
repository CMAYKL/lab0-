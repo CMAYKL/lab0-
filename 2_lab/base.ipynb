{
 "cells": [
  {
   "cell_type": "code",
   "execution_count": 1,
   "metadata": {},
   "outputs": [],
   "source": [
    "#Списки: Змінювані колекції, що зберігають впорядковані елементи.\n",
    "fruits = ['apple', 'banana', 'cherry']\n",
    "#Кортежі: Незаписувані колекції.\n",
    "colors = ('red', 'green', 'blue')\n",
    "#Словники: Незаписувані колекції пар \"ключ-значення\".\n",
    "person = {'name': 'Oleg', 'age': 30}\n",
    "#Множини: Колекції унікальних елементів.\n",
    "unique_numbers = {1, 2, 3, 4}"
   ]
  },
  {
   "cell_type": "code",
   "execution_count": 7,
   "metadata": {},
   "outputs": [
    {
     "name": "stdout",
     "output_type": "stream",
     "text": [
      "Менше 5\n",
      "apple\n",
      "banana\n",
      "cherry\n",
      "5\n"
     ]
    }
   ],
   "source": [
    "#Умовні конструкції: Використовуються для розгалуження логіки виконання.\n",
    "x=1\n",
    "if x > 5:\n",
    "    print(\"Більше 5\")\n",
    "elif x < 5:\n",
    "    print(\"Менше 5\")\n",
    "else:\n",
    "    print(\"Рівно 5\")\n",
    "#Цикли: Дозволяють виконувати блоки коду багаторазово.\n",
    "for fruit in fruits:\n",
    "    print(fruit)\n",
    "\n",
    "while x < 5:\n",
    "    x += 1\n",
    "print(x)\n"
   ]
  },
  {
   "cell_type": "code",
   "execution_count": 14,
   "metadata": {},
   "outputs": [
    {
     "name": "stdout",
     "output_type": "stream",
     "text": [
      "Привіт, Олександр!\n",
      "Це її виклик: 15\n"
     ]
    }
   ],
   "source": [
    "#Визначення функцій: Функції оголошуються з використанням ключового слова def.\n",
    "def greet(name):\n",
    "    return f\"Привіт, {name}!\"\n",
    "output = greet(\"Олександр\")\n",
    "print(output)\n",
    "#Лямбда-функції: Анонімні функції, які можуть мати кілька аргументів, але лише один вираз.\n",
    "add = lambda a, b: a + b\n",
    "print(\"Це її виклик:\", add(5, 10))"
   ]
  },
  {
   "cell_type": "code",
   "execution_count": 15,
   "metadata": {},
   "outputs": [
    {
     "name": "stdout",
     "output_type": "stream",
     "text": [
      "Ділення на нуль!\n"
     ]
    }
   ],
   "source": [
    "#Використання try-except для обробки помилок:\n",
    "try:\n",
    "    result = 10 / 0\n",
    "except ZeroDivisionError:\n",
    "    print(\"Ділення на нуль!\")\n"
   ]
  },
  {
   "cell_type": "code",
   "execution_count": 16,
   "metadata": {},
   "outputs": [
    {
     "name": "stdout",
     "output_type": "stream",
     "text": [
      "4.0\n"
     ]
    }
   ],
   "source": [
    "#Python має багатий набір стандартних бібліотек, а також можливість підключення сторонніх модулів.\n",
    "import math\n",
    "print(math.sqrt(16))  "
   ]
  },
  {
   "cell_type": "code",
   "execution_count": 27,
   "metadata": {},
   "outputs": [
    {
     "name": "stdout",
     "output_type": "stream",
     "text": [
      "Гав!\n"
     ]
    }
   ],
   "source": [
    "#Класи та об'єкти: Класи визначають структуру даних і поведінку.\n",
    "class Dog:\n",
    "    def __init__(self, name):\n",
    "        self.name = name\n",
    "    \n",
    "    def bark(self):\n",
    "        return \"Гав!\"\n",
    "\n",
    "my_dog = Dog(\"Тобі\")\n",
    "print(my_dog.bark())\n"
   ]
  }
 ],
 "metadata": {
  "kernelspec": {
   "display_name": "Python 3",
   "language": "python",
   "name": "python3"
  },
  "language_info": {
   "codemirror_mode": {
    "name": "ipython",
    "version": 3
   },
   "file_extension": ".py",
   "mimetype": "text/x-python",
   "name": "python",
   "nbconvert_exporter": "python",
   "pygments_lexer": "ipython3",
   "version": "3.12.6"
  }
 },
 "nbformat": 4,
 "nbformat_minor": 2
}
